{
 "cells": [
  {
   "cell_type": "code",
   "execution_count": 6,
   "metadata": {},
   "outputs": [],
   "source": [
    "from string import ascii_lowercase as alc\n",
    "from string import ascii_uppercase as auc"
   ]
  },
  {
   "cell_type": "code",
   "execution_count": 53,
   "metadata": {},
   "outputs": [
    {
     "data": {
      "text/plain": [
       "['PnJJfVPBcfVnnPnBFFcggttrtgCrjDtSjzSS',\n",
       " 'llWlLbmmdLLwLbqGdmTmbZfCQtzrMQfrjSzrtSrMqgMt',\n",
       " 'sHlZTsWZwGGlZmGTmdlZbhJNRPphVfRvVnRBsRsJJV',\n",
       " 'fsHtVbjtqstBghhwwPBw',\n",
       " 'SDQzzSzQrQMmmQlmlcNcJLZPgLrVZTdCddhgdPwwCw',\n",
       " 'JmSWSVGGlJJbRsbpWHfbRj',\n",
       " 'tJndRtwtddPvllvfrldrfPpHWDgglFDWWmMmHWmHpZlS',\n",
       " 'BBJTTjCsJWZCmSHSZD',\n",
       " 'LhqLcVzshTNjhqhcjLLTLjbTnGndfdwrfPRVRrdnwftQwJRv',\n",
       " 'wHlPJZwbbZfqbFwqFZfrrcrJrtMWSMMVtVcJht']"
      ]
     },
     "execution_count": 53,
     "metadata": {},
     "output_type": "execute_result"
    }
   ],
   "source": [
    "def open_file(path):\n",
    "    f = open(path, \"r\")\n",
    "    data = f.read().splitlines()\n",
    "    f.close()\n",
    "    return data\n",
    "\n",
    "raw = open_file(r'C:\\Users\\mkang\\Documents\\aoc\\2022\\3\\input.txt')\n",
    "raw[:10]"
   ]
  },
  {
   "cell_type": "code",
   "execution_count": 54,
   "metadata": {},
   "outputs": [],
   "source": [
    "priorities = dict(zip((alc+auc),range(1,len(alc+auc)+1)))"
   ]
  },
  {
   "cell_type": "code",
   "execution_count": 55,
   "metadata": {},
   "outputs": [
    {
     "data": {
      "text/plain": [
       "7875"
      ]
     },
     "execution_count": 55,
     "metadata": {},
     "output_type": "execute_result"
    }
   ],
   "source": [
    "# Part 1\n",
    "\n",
    "# raw = ['vJrwpWtwJgWrhcsFMMfFFhFp',\n",
    "# 'jqHRNqRjqzjGDLGLrsFMfFZSrLrFZsSL',\n",
    "# 'PmmdzqPrVvPwwTWBwg',\n",
    "# 'wMqvLMZHhHMvwLHjbvcjnnSBnvTQFn',\n",
    "# 'ttgJtRGJQctTZtZT',\n",
    "# 'CrZsJsPPZsGzwwsLwLmpwMDw']\n",
    "\n",
    "shared = []\n",
    "for r in raw:\n",
    "    left = r[:(len(r)//2)]\n",
    "    right = r[(len(r)//2):]\n",
    "    left_set = set(list(left))\n",
    "    right_set = set(list(right))\n",
    "    shared += list(left_set.intersection(right_set))    \n",
    "\n",
    "sum([priorities[s] for s in shared])\n",
    "\n"
   ]
  },
  {
   "cell_type": "code",
   "execution_count": 57,
   "metadata": {},
   "outputs": [
    {
     "data": {
      "text/plain": [
       "2479"
      ]
     },
     "execution_count": 57,
     "metadata": {},
     "output_type": "execute_result"
    }
   ],
   "source": [
    "# Part 2\n",
    "\n",
    "def chunks(lst, n):\n",
    "    \"\"\"Yield n number of striped chunks from l.\"\"\"\n",
    "    for i in range(0, len(lst), n):\n",
    "        yield lst[i:i + n]\n",
    "\n",
    "# raw = ['vJrwpWtwJgWrhcsFMMfFFhFp',\n",
    "# 'jqHRNqRjqzjGDLGLrsFMfFZSrLrFZsSL',\n",
    "# 'PmmdzqPrVvPwwTWBwg',\n",
    "# 'wMqvLMZHhHMvwLHjbvcjnnSBnvTQFn',\n",
    "# 'ttgJtRGJQctTZtZT',\n",
    "# 'CrZsJsPPZsGzwwsLwLmpwMDw']\n",
    "\n",
    "groups = list(chunks(raw,3)) #real is 100\n",
    "\n",
    "badges = []\n",
    "for g in groups:\n",
    "    badges.append(list(set(list(g[0])) & set(list(g[1])) & set(list(g[2])))[0])\n",
    "\n",
    "sum(priorities[b] for b in badges)\n",
    "\n",
    "\n",
    "# shared = []\n",
    "# for r in raw:\n",
    "#     left = r[:(len(r)//2)]\n",
    "#     right = r[(len(r)//2):]\n",
    "#     left_set = set(list(left))\n",
    "#     right_set = set(list(right))\n",
    "#     shared += list(left_set.intersection(right_set))    \n",
    "\n",
    "# #sum([priorities[s] for s in shared])\n"
   ]
  },
  {
   "cell_type": "code",
   "execution_count": null,
   "metadata": {},
   "outputs": [],
   "source": []
  }
 ],
 "metadata": {
  "kernelspec": {
   "display_name": "Python 3.10.4 ('dagster')",
   "language": "python",
   "name": "python3"
  },
  "language_info": {
   "codemirror_mode": {
    "name": "ipython",
    "version": 3
   },
   "file_extension": ".py",
   "mimetype": "text/x-python",
   "name": "python",
   "nbconvert_exporter": "python",
   "pygments_lexer": "ipython3",
   "version": "3.10.4"
  },
  "orig_nbformat": 4,
  "vscode": {
   "interpreter": {
    "hash": "8ecf6bd35c549fe3f8b1f038c912fb0298909cd183f844a64492c4b266e925af"
   }
  }
 },
 "nbformat": 4,
 "nbformat_minor": 2
}
