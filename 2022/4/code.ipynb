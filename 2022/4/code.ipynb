{
 "cells": [
  {
   "cell_type": "code",
   "execution_count": null,
   "metadata": {},
   "outputs": [],
   "source": []
  },
  {
   "cell_type": "code",
   "execution_count": 2,
   "metadata": {},
   "outputs": [
    {
     "data": {
      "text/plain": [
       "['31-31,32-40',\n",
       " '26-92,13-91',\n",
       " '9-90,29-91',\n",
       " '72-72,25-73',\n",
       " '28-79,79-79',\n",
       " '52-77,53-53',\n",
       " '17-54,17-54',\n",
       " '11-47,4-10',\n",
       " '1-96,1-97',\n",
       " '38-99,39-63']"
      ]
     },
     "execution_count": 2,
     "metadata": {},
     "output_type": "execute_result"
    }
   ],
   "source": [
    "def open_file(path):\n",
    "    f = open(path, \"r\")\n",
    "    data = f.read().splitlines()\n",
    "    f.close()\n",
    "    return data\n",
    "\n",
    "raw = open_file(r'C:\\Users\\mkang\\Documents\\aoc\\2022\\4\\input.txt')\n",
    "raw[:10]"
   ]
  },
  {
   "cell_type": "code",
   "execution_count": 8,
   "metadata": {},
   "outputs": [
    {
     "data": {
      "text/plain": [
       "556"
      ]
     },
     "execution_count": 8,
     "metadata": {},
     "output_type": "execute_result"
    }
   ],
   "source": [
    "# Part 1\n",
    "data = []\n",
    "for r in raw:\n",
    "    sub = r.split(',')\n",
    "    data.append([[int(x) for x in s.split('-')] for s in sub])\n",
    "data[:5]\n",
    "\n",
    "count = 0\n",
    "for d in data:\n",
    "    first = d[0]\n",
    "    last = d[1]\n",
    "    if first[0]>=last[0] and first[1]<=last[1]:\n",
    "        count += 1\n",
    "    elif first[0]<=last[0] and first[1]>=last[1]:\n",
    "        count += 1\n",
    "    else:\n",
    "        pass\n",
    "\n",
    "count"
   ]
  },
  {
   "cell_type": "code",
   "execution_count": 10,
   "metadata": {},
   "outputs": [
    {
     "data": {
      "text/plain": [
       "876"
      ]
     },
     "execution_count": 10,
     "metadata": {},
     "output_type": "execute_result"
    }
   ],
   "source": [
    "# Part 2\n",
    "data = []\n",
    "for r in raw:\n",
    "    sub = r.split(',')\n",
    "    data.append([[int(x) for x in s.split('-')] for s in sub])\n",
    "data[:5]\n",
    "\n",
    "count = 0\n",
    "for d in data:\n",
    "    first = d[0]\n",
    "    last = d[1]\n",
    "    if last[0] <= first[0] <= last[1]:\n",
    "        count += 1\n",
    "    elif last[0] <= first[1] <= last[1]:\n",
    "        count += 1\n",
    "    elif first[0] <= last[0] <= first[1]:\n",
    "        count += 1\n",
    "    elif first[1] <= last[1] <= first[1]:\n",
    "        count += 1\n",
    "    else:\n",
    "        pass\n",
    "\n",
    "count\n",
    "    "
   ]
  },
  {
   "cell_type": "code",
   "execution_count": null,
   "metadata": {},
   "outputs": [],
   "source": []
  }
 ],
 "metadata": {
  "kernelspec": {
   "display_name": "Python 3.10.4 ('dagster')",
   "language": "python",
   "name": "python3"
  },
  "language_info": {
   "codemirror_mode": {
    "name": "ipython",
    "version": 3
   },
   "file_extension": ".py",
   "mimetype": "text/x-python",
   "name": "python",
   "nbconvert_exporter": "python",
   "pygments_lexer": "ipython3",
   "version": "3.10.4"
  },
  "orig_nbformat": 4,
  "vscode": {
   "interpreter": {
    "hash": "8ecf6bd35c549fe3f8b1f038c912fb0298909cd183f844a64492c4b266e925af"
   }
  }
 },
 "nbformat": 4,
 "nbformat_minor": 2
}
