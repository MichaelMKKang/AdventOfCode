{
 "cells": [
  {
   "cell_type": "code",
   "execution_count": 6,
   "metadata": {},
   "outputs": [
    {
     "data": {
      "text/plain": [
       "['[T] [V]                     [W]    ',\n",
       " '[V] [C] [P] [D]             [B]    ',\n",
       " '[J] [P] [R] [N] [B]         [Z]    ',\n",
       " '[W] [Q] [D] [M] [T]     [L] [T]    ',\n",
       " '[N] [J] [H] [B] [P] [T] [P] [L]    ',\n",
       " '[R] [D] [F] [P] [R] [P] [R] [S] [G]',\n",
       " '[M] [W] [J] [R] [V] [B] [J] [C] [S]',\n",
       " '[S] [B] [B] [F] [H] [C] [B] [N] [L]']"
      ]
     },
     "execution_count": 6,
     "metadata": {},
     "output_type": "execute_result"
    }
   ],
   "source": [
    "def open_file(path):\n",
    "    f = open(path, \"r\")\n",
    "    data = f.read().splitlines()\n",
    "    f.close()\n",
    "    return data\n",
    "\n",
    "raw = open_file(r'C:\\Users\\mkang\\Documents\\aoc\\2022\\5\\input.txt')\n",
    "stack_data = raw[:8]\n",
    "\n",
    "instructions = raw[10:]\n",
    "# instructions[:10]\n",
    "\n",
    "stack_data"
   ]
  },
  {
   "cell_type": "code",
   "execution_count": 40,
   "metadata": {},
   "outputs": [
    {
     "name": "stdout",
     "output_type": "stream",
     "text": [
      "[]\n",
      "['S', 'M', 'R', 'N', 'W', 'J', 'V', 'T']\n",
      "['B', 'W', 'D', 'J', 'Q', 'P', 'C', 'V']\n",
      "['B', 'J', 'F', 'H', 'D', 'R', 'P']\n",
      "['F', 'R', 'P', 'B', 'M', 'N', 'D']\n",
      "['H', 'V', 'R', 'P', 'T', 'B']\n",
      "['C', 'B', 'P', 'T']\n",
      "['B', 'J', 'R', 'P', 'L']\n",
      "['N', 'C', 'S', 'L', 'T', 'Z', 'B', 'W']\n",
      "['L', 'S', 'G']\n"
     ]
    }
   ],
   "source": [
    "def chunks(lst, n):\n",
    "    \"\"\"Yield n number of striped chunks from l.\"\"\"\n",
    "    for i in range(0, len(lst), n):\n",
    "        yield lst[i:i + n]\n",
    "\n",
    "class Stack:\n",
    "    def __init__(self,box_list=[]):\n",
    "        self.stack = box_list\n",
    "    \n",
    "    def pop(self):\n",
    "        try:\n",
    "            return self.stack.pop()\n",
    "        except:\n",
    "            print('pop failed')\n",
    "            #raise Exception\n",
    "            pass\n",
    "\n",
    "    def add(self,box):\n",
    "        self.stack.append(box)\n",
    "\n",
    "    def bulk_add(self,boxes):\n",
    "        self.stack += boxes\n",
    "\n",
    "\n",
    "stack_list = []\n",
    "for r in stack_data:\n",
    "    row_data = [s[1] if '[' in s else '' for s in [x.strip() for x in list(chunks(r,4))]]\n",
    "    stack_list.append(row_data)\n",
    "\n",
    "stacks = [Stack()]  # This initial Stack is to let us just use the instructions' indexes starting at 1\n",
    "for i in range(len(stack_list[0])):\n",
    "    temp = []\n",
    "    for r in stack_list:\n",
    "        temp.append(r[i])\n",
    "    temp.reverse()\n",
    "    temp = [x for x in temp if x!= '']\n",
    "    stacks.append(Stack(temp))\n",
    "\n",
    "for s in stacks:\n",
    "    print(s.stack)\n"
   ]
  },
  {
   "cell_type": "code",
   "execution_count": 37,
   "metadata": {},
   "outputs": [
    {
     "name": "stdout",
     "output_type": "stream",
     "text": [
      "[]\n",
      "['P', 'L']\n",
      "['S', 'G', 'B', 'H', 'B', 'F', 'V', 'Z', 'D', 'R', 'B', 'W', 'J']\n",
      "['J', 'C', 'P', 'P', 'B', 'N', 'R', 'L', 'S']\n",
      "['C', 'F', 'V']\n",
      "['R', 'S', 'D', 'L']\n",
      "['T', 'T']\n",
      "['J', 'W']\n",
      "['J', 'T', 'V', 'C', 'D', 'B', 'M', 'R', 'N', 'W', 'P', 'H', 'B', 'B', 'T', 'R', 'P', 'Q']\n",
      "['N', 'P', 'M']\n"
     ]
    }
   ],
   "source": [
    "# Part 1\n",
    "\n",
    "for i in instructions:\n",
    "    inst = i.split(' from ')\n",
    "    num = int(inst[0].split('move ')[1])\n",
    "    start,end = [int(x) for x in inst[1].split(' to ')]\n",
    "    \n",
    "    for n in range(num):\n",
    "        z = stacks[start].pop()\n",
    "        stacks[end].add(z)\n",
    "\n",
    "for s in stacks:\n",
    "    print(s.stack)\n",
    "   "
   ]
  },
  {
   "cell_type": "code",
   "execution_count": 41,
   "metadata": {},
   "outputs": [
    {
     "name": "stdout",
     "output_type": "stream",
     "text": [
      "[]\n",
      "['P', 'B']\n",
      "['T', 'Z', 'L', 'P', 'M', 'S', 'L', 'T', 'S', 'B', 'G', 'W', 'R']\n",
      "['R', 'H', 'B', 'L', 'C', 'T', 'J', 'H', 'Q']\n",
      "['N', 'R', 'W']\n",
      "['N', 'W', 'J', 'D']\n",
      "['R', 'B']\n",
      "['F', 'B']\n",
      "['V', 'P', 'T', 'C', 'J', 'D', 'B', 'V', 'C', 'S', 'P', 'R', 'N', 'V', 'F', 'B', 'D', 'J']\n",
      "['P', 'P', 'M']\n"
     ]
    }
   ],
   "source": [
    "# Part 2\n",
    "for i in instructions:\n",
    "    inst = i.split(' from ')\n",
    "    num = int(inst[0].split('move ')[1])\n",
    "    start,end = [int(x) for x in inst[1].split(' to ')]\n",
    "    \n",
    "\n",
    "    pack = []\n",
    "    for n in range(num):\n",
    "        pack.append(stacks[start].pop())\n",
    "    pack.reverse()\n",
    "    stacks[end].bulk_add(pack)\n",
    "\n",
    "for s in stacks:\n",
    "    print(s.stack)"
   ]
  },
  {
   "cell_type": "code",
   "execution_count": 39,
   "metadata": {},
   "outputs": [
    {
     "data": {
      "text/plain": [
       "['B', 'W', 'J']"
      ]
     },
     "execution_count": 39,
     "metadata": {},
     "output_type": "execute_result"
    }
   ],
   "source": [
    "z = ['S', 'G', 'B', 'H', 'B', 'F', 'V', 'Z', 'D', 'R', 'B', 'W', 'J']\n",
    "z[-3:]"
   ]
  }
 ],
 "metadata": {
  "kernelspec": {
   "display_name": "Python 3.10.4 ('dagster')",
   "language": "python",
   "name": "python3"
  },
  "language_info": {
   "codemirror_mode": {
    "name": "ipython",
    "version": 3
   },
   "file_extension": ".py",
   "mimetype": "text/x-python",
   "name": "python",
   "nbconvert_exporter": "python",
   "pygments_lexer": "ipython3",
   "version": "3.10.4"
  },
  "orig_nbformat": 4,
  "vscode": {
   "interpreter": {
    "hash": "8ecf6bd35c549fe3f8b1f038c912fb0298909cd183f844a64492c4b266e925af"
   }
  }
 },
 "nbformat": 4,
 "nbformat_minor": 2
}
