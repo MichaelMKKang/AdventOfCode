{
 "cells": [
  {
   "cell_type": "code",
   "execution_count": 5,
   "metadata": {},
   "outputs": [
    {
     "data": {
      "text/plain": [
       "[['A', 'Y'],\n",
       " ['A', 'Y'],\n",
       " ['B', 'X'],\n",
       " ['A', 'Y'],\n",
       " ['C', 'Y'],\n",
       " ['B', 'Y'],\n",
       " ['B', 'Z'],\n",
       " ['B', 'Y'],\n",
       " ['A', 'X'],\n",
       " ['B', 'X']]"
      ]
     },
     "execution_count": 5,
     "metadata": {},
     "output_type": "execute_result"
    }
   ],
   "source": [
    "def open_file(path):\n",
    "    f = open(path, \"r\")\n",
    "    data = f.read().splitlines()\n",
    "    f.close()\n",
    "    return data\n",
    "\n",
    "raw = open_file(r'C:\\Users\\mkang\\Documents\\aoc\\2022\\2\\input.txt')\n",
    "raw = [x.split(' ') for x in raw]       # Remove this normally\n",
    "raw[:10]"
   ]
  },
  {
   "cell_type": "code",
   "execution_count": 8,
   "metadata": {},
   "outputs": [],
   "source": [
    "hand_map = {\n",
    "    'A': 'Rock',\n",
    "    'B': 'Paper',\n",
    "    'C': 'Scissors',\n",
    "    'X': 'Rock',\n",
    "    'Y': 'Paper',\n",
    "    'Z': 'Scissors'\n",
    "}\n",
    "\n",
    "score_map = {\n",
    "    'Rock': 1,\n",
    "    'Paper': 2,\n",
    "    'Scissors':3\n",
    "}\n",
    "\n",
    "win_list = [\n",
    "    ['Rock', 'Paper'],\n",
    "    ['Paper','Scissors'],\n",
    "    ['Scissors','Rock']\n",
    "]\n",
    "\n",
    "#Only called if the hands are different\n",
    "def result(hands):\n",
    "    if hands in win_list:\n",
    "        return 6\n",
    "    elif hands[0] == hands[1]:\n",
    "        return 3\n",
    "    else:\n",
    "        return 0"
   ]
  },
  {
   "cell_type": "code",
   "execution_count": 15,
   "metadata": {},
   "outputs": [
    {
     "data": {
      "text/plain": [
       "11906"
      ]
     },
     "execution_count": 15,
     "metadata": {},
     "output_type": "execute_result"
    }
   ],
   "source": [
    "# Part 1\n",
    "total = 0\n",
    "for r in raw:\n",
    "    hands = [hand_map[x] for x in r]\n",
    "    \n",
    "    total += result(hands) + score_map[hands[1]]\n",
    "    #print(hands,': ',result(hands) + score_map[hands[1]])\n",
    "total"
   ]
  },
  {
   "cell_type": "code",
   "execution_count": 21,
   "metadata": {},
   "outputs": [
    {
     "data": {
      "text/plain": [
       "11186"
      ]
     },
     "execution_count": 21,
     "metadata": {},
     "output_type": "execute_result"
    }
   ],
   "source": [
    "# Part 2\n",
    "\n",
    "hand_map = {\n",
    "    'A': 'Rock',\n",
    "    'B': 'Paper',\n",
    "    'C': 'Scissors'\n",
    "}\n",
    "\n",
    "win_dict = {\n",
    "    'Rock':'Paper',\n",
    "    'Scissors':'Rock',\n",
    "    'Paper':'Scissors'\n",
    "}\n",
    "lose_dict = {v:k for k,v in win_dict.items()}\n",
    "\n",
    "total=0\n",
    "for r in raw:\n",
    "    them = hand_map[r[0]]\n",
    "    if r[1]=='X':\n",
    "        me = lose_dict[them]\n",
    "    elif r[1]=='Y':\n",
    "        me = them\n",
    "    else:\n",
    "        me = win_dict[them]\n",
    "    hands = [them,me]\n",
    "\n",
    "    total += result(hands) + score_map[hands[1]]\n",
    "\n",
    "total\n",
    "\n"
   ]
  }
 ],
 "metadata": {
  "kernelspec": {
   "display_name": "Python 3.10.4 ('dagster')",
   "language": "python",
   "name": "python3"
  },
  "language_info": {
   "codemirror_mode": {
    "name": "ipython",
    "version": 3
   },
   "file_extension": ".py",
   "mimetype": "text/x-python",
   "name": "python",
   "nbconvert_exporter": "python",
   "pygments_lexer": "ipython3",
   "version": "3.10.4"
  },
  "orig_nbformat": 4,
  "vscode": {
   "interpreter": {
    "hash": "8ecf6bd35c549fe3f8b1f038c912fb0298909cd183f844a64492c4b266e925af"
   }
  }
 },
 "nbformat": 4,
 "nbformat_minor": 2
}
