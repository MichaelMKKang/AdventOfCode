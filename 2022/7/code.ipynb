{
 "cells": [
  {
   "cell_type": "code",
   "execution_count": 119,
   "metadata": {},
   "outputs": [
    {
     "data": {
      "text/plain": [
       "['$ cd /',\n",
       " '$ ls',\n",
       " 'dir gqcclj',\n",
       " 'dir lmtpm',\n",
       " 'dir nhqwt',\n",
       " 'dir qcq',\n",
       " 'dir vwqwlqrt',\n",
       " '$ cd gqcclj',\n",
       " '$ ls',\n",
       " '62425 dqp.gjm']"
      ]
     },
     "execution_count": 119,
     "metadata": {},
     "output_type": "execute_result"
    }
   ],
   "source": [
    "def open_file(path):\n",
    "    f = open(path, \"r\")\n",
    "    data = f.read().splitlines()\n",
    "    f.close()\n",
    "    return data\n",
    "\n",
    "raw = open_file(r'C:\\Users\\mkang\\Documents\\aoc\\2022\\7\\input.txt')\n",
    "raw[:10]"
   ]
  },
  {
   "cell_type": "code",
   "execution_count": 70,
   "metadata": {},
   "outputs": [],
   "source": [
    "# raw = [\n",
    "# '$ cd /',\n",
    "# '$ ls',\n",
    "# 'dir a',\n",
    "# '14848514 b.txt',\n",
    "# '8504156 c.dat',\n",
    "# 'dir d',\n",
    "# '$ cd a',\n",
    "# '$ ls',\n",
    "# 'dir e',\n",
    "# '29116 f',\n",
    "# '2557 g',\n",
    "# '62596 h.lst',\n",
    "# '$ cd e',\n",
    "# '$ ls',\n",
    "# '584 i',\n",
    "# '$ cd ..',\n",
    "# '$ cd ..',\n",
    "# '$ cd d',\n",
    "# '$ ls',\n",
    "# '4060174 j',\n",
    "# '8033020 d.log',\n",
    "# '5626152 d.ext',\n",
    "# '7214296 k'\n",
    "# ]\n"
   ]
  },
  {
   "cell_type": "code",
   "execution_count": 123,
   "metadata": {},
   "outputs": [],
   "source": [
    "class Dir:\n",
    "    def __init__(self,name,objs,parent=None):        #objs: pass list of files,  parent = parent Dir\n",
    "        self.__type__ = 'dir'\n",
    "        self.name = name\n",
    "        self.objs = objs\n",
    "        self.parent = parent\n",
    "    \n",
    "    def add(self,objs):\n",
    "        self.objs += objs\n",
    "\n",
    "    def get_size(self):\n",
    "        total = 0\n",
    "        for f in self.objs:\n",
    "            if f.__type__ == 'dir':\n",
    "                total += f.get_size()\n",
    "            else:\n",
    "                total += f.size\n",
    "        return total\n",
    "\n",
    "class File:\n",
    "    def __init__(self,name,size,parent):        # parent = parent Dir\n",
    "        self.__type__ = 'file'\n",
    "        self.name = name\n",
    "        self.size = size\n",
    "        self.parent = parent"
   ]
  },
  {
   "cell_type": "code",
   "execution_count": 62,
   "metadata": {},
   "outputs": [
    {
     "data": {
      "text/plain": [
       "5"
      ]
     },
     "execution_count": 62,
     "metadata": {},
     "output_type": "execute_result"
    }
   ],
   "source": [
    "#testing\n",
    "q = Dir('base',[])\n",
    "w = Dir('in',[],q)\n",
    "q.add([w])\n",
    "f = File('test',2,q)\n",
    "g = File('testg',3,w)\n",
    "\n",
    "q.add([f])\n",
    "w.add([g])\n",
    "q.get_size()"
   ]
  },
  {
   "cell_type": "code",
   "execution_count": 87,
   "metadata": {},
   "outputs": [
    {
     "data": {
      "text/plain": [
       "3"
      ]
     },
     "execution_count": 87,
     "metadata": {},
     "output_type": "execute_result"
    }
   ],
   "source": [
    "#assumption that you visit every dir at least once\n",
    "\n",
    "#method to move in, out, and go to outermost dir\n",
    "\n",
    "# Assumption that you can't move into a file (only dir to dir)\n",
    "def move_in(current,dir):\n",
    "    sub = [x.name for x in current.objs]\n",
    "    if dir not in sub:\n",
    "        current.add([Dir(dir,[],current)])\n",
    "        sub = [x.name for x in current.objs]\n",
    "    index = sub.index(dir)\n",
    "    return current.objs[index]\n",
    "\n",
    "a = move_in(q,'in')\n",
    "a.get_size()"
   ]
  },
  {
   "cell_type": "code",
   "execution_count": 64,
   "metadata": {},
   "outputs": [
    {
     "data": {
      "text/plain": [
       "'base'"
      ]
     },
     "execution_count": 64,
     "metadata": {},
     "output_type": "execute_result"
    }
   ],
   "source": [
    "def move_out(current):\n",
    "    return current.parent\n",
    "\n",
    "b = move_out(a)\n",
    "b.name"
   ]
  },
  {
   "cell_type": "code",
   "execution_count": 65,
   "metadata": {},
   "outputs": [
    {
     "data": {
      "text/plain": [
       "'base'"
      ]
     },
     "execution_count": 65,
     "metadata": {},
     "output_type": "execute_result"
    }
   ],
   "source": [
    "def root(current):\n",
    "    while current.parent is not None:\n",
    "        current = current.parent\n",
    "    return current\n",
    "\n",
    "c = root(a)\n",
    "c.name"
   ]
  },
  {
   "cell_type": "code",
   "execution_count": 66,
   "metadata": {},
   "outputs": [
    {
     "name": "stdout",
     "output_type": "stream",
     "text": [
      "in\n",
      "test\n",
      "gqcclj\n",
      "lmtpm\n",
      "nhqwt\n",
      "qcq\n",
      "vwqwlqrt\n"
     ]
    }
   ],
   "source": [
    "def ls_command(current,ls):       #ls should be a list of strings of style \"8033020 d.log\"\n",
    "    for l in ls:\n",
    "        left,name = l.split(' ')\n",
    "        try:\n",
    "            size = int(left)\n",
    "            if not _contains(current,name):\n",
    "                current.add([File(name,size,current)])\n",
    "        except:\n",
    "            if not _contains(current,name):\n",
    "                temp = Dir(name,[],current)\n",
    "                current.add([temp])\n",
    "    return current\n",
    "\n",
    "\n",
    "def _contains(current, name):\n",
    "    sub = [x.name for x in current.objs]\n",
    "    if name in sub:\n",
    "        return True\n",
    "    else:\n",
    "        return False\n",
    "\n",
    "d = ls_command(c,['dir gqcclj', 'dir lmtpm', 'dir nhqwt', 'dir qcq', 'dir vwqwlqrt'])\n",
    "for i in d.objs:\n",
    "    print(i.name)"
   ]
  },
  {
   "cell_type": "code",
   "execution_count": 126,
   "metadata": {},
   "outputs": [
    {
     "name": "stdout",
     "output_type": "stream",
     "text": [
      "gqcclj 860600\n",
      "lmtpm 22094556\n",
      "nhqwt 18316333\n",
      "qcq 1888066\n",
      "vwqwlqrt 281998\n"
     ]
    }
   ],
   "source": [
    "current = Dir('/',[],None)\n",
    "commands = []\n",
    "temp = []\n",
    "for r in raw:\n",
    "    if len(temp) != 0 and r[0] == '$':\n",
    "        commands.append(temp)\n",
    "        temp = []\n",
    "    temp.append(r)\n",
    "commands.append(temp)\n",
    "\n",
    "# for c in commands:\n",
    "#     print(c)\n",
    "\n",
    "for c in commands:\n",
    "    if 'cd ..' in c[0]:\n",
    "        current = move_out(current)\n",
    "    elif 'cd /' in c[0]:\n",
    "        current = root(current)\n",
    "    elif 'cd ' in c[0]:\n",
    "        d = c[0].split(' ')[2]\n",
    "        current = move_in(current,d)\n",
    "    else:           # this is ls\n",
    "        current = ls_command(current,c[1:])\n",
    "\n",
    "total = 0\n",
    "start = root(current)\n",
    "for s in start.objs:\n",
    "    if s.get_size() <= 100000\n",
    "    print(s.name, s.get_size())"
   ]
  },
  {
   "cell_type": "code",
   "execution_count": 121,
   "metadata": {},
   "outputs": [
    {
     "data": {
      "text/plain": [
       "43441553"
      ]
     },
     "execution_count": 121,
     "metadata": {},
     "output_type": "execute_result"
    }
   ],
   "source": [
    "# for o in start.objs[0].objs:\n",
    "#     print(o.name)\n",
    "\n",
    "start.get_size()"
   ]
  }
 ],
 "metadata": {
  "kernelspec": {
   "display_name": "Python 3.10.4 ('dagster')",
   "language": "python",
   "name": "python3"
  },
  "language_info": {
   "codemirror_mode": {
    "name": "ipython",
    "version": 3
   },
   "file_extension": ".py",
   "mimetype": "text/x-python",
   "name": "python",
   "nbconvert_exporter": "python",
   "pygments_lexer": "ipython3",
   "version": "3.10.4"
  },
  "orig_nbformat": 4,
  "vscode": {
   "interpreter": {
    "hash": "8ecf6bd35c549fe3f8b1f038c912fb0298909cd183f844a64492c4b266e925af"
   }
  }
 },
 "nbformat": 4,
 "nbformat_minor": 2
}
