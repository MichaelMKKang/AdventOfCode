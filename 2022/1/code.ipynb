{
 "cells": [
  {
   "cell_type": "code",
   "execution_count": 3,
   "metadata": {},
   "outputs": [
    {
     "data": {
      "text/plain": [
       "['15931',\n",
       " '8782',\n",
       " '16940',\n",
       " '14614',\n",
       " '',\n",
       " '4829',\n",
       " '12415',\n",
       " '13259',\n",
       " '11441',\n",
       " '8199']"
      ]
     },
     "execution_count": 3,
     "metadata": {},
     "output_type": "execute_result"
    }
   ],
   "source": [
    "def open_file(path):\n",
    "    f = open(path, \"r\")\n",
    "    data = f.read().splitlines()\n",
    "    f.close()\n",
    "    return data\n",
    "\n",
    "raw = open_file(r'C:\\Users\\mkang\\Documents\\aoc\\2022\\1\\input.txt')\n",
    "raw[:10]"
   ]
  },
  {
   "cell_type": "code",
   "execution_count": 6,
   "metadata": {},
   "outputs": [
    {
     "name": "stdout",
     "output_type": "stream",
     "text": [
      "56267 56267\n"
     ]
    },
    {
     "data": {
      "text/plain": [
       "70116"
      ]
     },
     "execution_count": 6,
     "metadata": {},
     "output_type": "execute_result"
    }
   ],
   "source": [
    "# Part 1\n",
    "result = []\n",
    "current = 0\n",
    "for r in raw:\n",
    "    if r != '':\n",
    "        current += int(r)\n",
    "    else:\n",
    "        result.append(current)\n",
    "        current = 0\n",
    "\n",
    "print(result[0],str(15931+8782+16940+14614))\n",
    "max(result)"
   ]
  },
  {
   "cell_type": "code",
   "execution_count": 14,
   "metadata": {},
   "outputs": [
    {
     "name": "stdout",
     "output_type": "stream",
     "text": [
      "[70116, 68706, 67760]\n"
     ]
    },
    {
     "data": {
      "text/plain": [
       "206582"
      ]
     },
     "execution_count": 14,
     "metadata": {},
     "output_type": "execute_result"
    }
   ],
   "source": [
    "# Part 2\n",
    "result.sort(reverse=True)\n",
    "print(result[:3])\n",
    "sum(result[:3])"
   ]
  },
  {
   "cell_type": "markdown",
   "metadata": {},
   "source": []
  }
 ],
 "metadata": {
  "kernelspec": {
   "display_name": "Python 3.10.4 ('dagster')",
   "language": "python",
   "name": "python3"
  },
  "language_info": {
   "codemirror_mode": {
    "name": "ipython",
    "version": 3
   },
   "file_extension": ".py",
   "mimetype": "text/x-python",
   "name": "python",
   "nbconvert_exporter": "python",
   "pygments_lexer": "ipython3",
   "version": "3.10.4"
  },
  "orig_nbformat": 4,
  "vscode": {
   "interpreter": {
    "hash": "8ecf6bd35c549fe3f8b1f038c912fb0298909cd183f844a64492c4b266e925af"
   }
  }
 },
 "nbformat": 4,
 "nbformat_minor": 2
}
