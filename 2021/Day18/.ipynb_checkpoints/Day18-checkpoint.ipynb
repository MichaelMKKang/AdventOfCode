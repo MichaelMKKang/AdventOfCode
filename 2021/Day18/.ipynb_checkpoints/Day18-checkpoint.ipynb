{
 "cells": [
  {
   "cell_type": "code",
   "execution_count": 240,
   "id": "72ddaa12",
   "metadata": {},
   "outputs": [],
   "source": [
    "import re\n",
    "with open('Day18 input.txt') as f:\n",
    "    lines = f.readlines()\n",
    "lines = [x.strip() for x in lines]\n",
    "#for l in lines:\n",
    "#    print(l)"
   ]
  },
  {
   "cell_type": "code",
   "execution_count": 304,
   "id": "0299dfce",
   "metadata": {},
   "outputs": [
    {
     "name": "stdout",
     "output_type": "stream",
     "text": [
      "--------------\n",
      "only exploding right\n",
      "only exploding left\n",
      "only exploding left\n",
      "only exploding right\n",
      "only exploding right\n"
     ]
    }
   ],
   "source": [
    "#i is the index: the start of the first number once depth hit 5\n",
    "def explode(snail,i):\n",
    "    comma_index = i\n",
    "    while snail[comma_index] != ',':\n",
    "        comma_index += 1\n",
    "        \n",
    "    end_index = comma_index\n",
    "    while snail[end_index] != ']':\n",
    "        end_index += 1\n",
    "    left_num = int(snail[i:comma_index])\n",
    "    right_num = int(snail[comma_index+1:end_index])\n",
    "\n",
    "    #first try exploding both ways, if error, then ...\n",
    "    #try exploding left. if it doesn't work, then its gotta explode right\n",
    "    try:\n",
    "        left_index = i-1\n",
    "        while snail[left_index] not in '0123456789':\n",
    "            left_index -= 1\n",
    "            if left_index < 0:\n",
    "                raise Error\n",
    "        left_left_index = left_index\n",
    "        while snail[left_left_index] in '0123456789':\n",
    "            left_left_index -= 1\n",
    "        left_target = int(snail[left_left_index+1:left_index+1])\n",
    "        right_index = end_index\n",
    "        while snail[right_index] not in '0123456789':\n",
    "            right_index += 1\n",
    "            if right_index > len(snail):\n",
    "                raise Error\n",
    "        right_right_index = right_index\n",
    "        while snail[right_right_index] in '0123456789':\n",
    "            right_right_index += 1\n",
    "        right_target = int(snail[right_index:right_right_index])\n",
    "        #print('test',snail[left_index+1:i-1])\n",
    "        new_snail = snail[:left_left_index+1] + str(left_num+left_target) + snail[left_index+1:i-1] + '0' + snail[end_index+1:right_index] + str(right_num+right_target) + snail[right_right_index:] \n",
    "            \n",
    "    except:\n",
    "        try:\n",
    "            left_index = i-1\n",
    "            while snail[left_index] not in '0123456789':\n",
    "                left_index -= 1\n",
    "                if left_index < 0:\n",
    "                    raise Error\n",
    "            left_left_index = left_index\n",
    "            while snail[left_left_index] in '0123456789':\n",
    "                left_left_index -= 1\n",
    "            left_target = int(snail[left_left_index+1:left_index+1])\n",
    "            new_snail = snail[:left_left_index+1] + str(left_num+left_target) + snail[left_index+1] + '0' + snail[end_index+1:]\n",
    "            print('only exploding left')\n",
    "        except:\n",
    "            try:\n",
    "                right_index = end_index\n",
    "                while snail[right_index] not in '0123456789':\n",
    "                    right_index += 1\n",
    "                    if right_index > len(snail):\n",
    "                        raise Error\n",
    "                right_right_index = right_index\n",
    "                while snail[right_right_index] in '0123456789':\n",
    "                    right_right_index += 1\n",
    "                right_target = int(snail[right_index:right_right_index])\n",
    "                new_snail = snail[:i-1] + '0' + snail[end_index+1:right_index] + str(right_num+right_target) + snail[right_right_index:]\n",
    "                print('only exploding right')\n",
    "            except:\n",
    "                print('bigger uhoh')\n",
    "    snail = new_snail\n",
    "    return snail\n",
    "\n",
    "#explode: iterate left until you find num, add to int(num) and add the strings togteher\n",
    "# can't just replace value since what if explode causes > 10 value\n",
    "#5,13,11,11\n",
    "# test = '[[[[0,7],4],[7,[[8,4],9]]],[1,1]]'\n",
    "# round2 = explode(test,17)\n",
    "# print(round2)\n",
    "\n",
    "print('--------------')\n",
    "assert step('[[[[[9,8],1],2],3],4]') == '[[[[0,9],2],3],4]','check 0'\n",
    "assert step('[7,[6,[5,[4,[3,2]]]]]') == '[7,[6,[5,[7,0]]]]','check 1'\n",
    "assert step('[[6,[5,[4,[3,2]]]],1]') == '[[6,[5,[7,0]]],3]','check 2'\n",
    "round0 = step('[[3,[2,[1,[7,3]]]],[6,[5,[4,[3,2]]]]]')\n",
    "assert round0 == '[[3,[2,[8,0]]],[9,[5,[4,[3,2]]]]]','check 3.0'\n",
    "assert step(round0) == '[[3,[2,[8,0]]],[9,[5,[7,0]]]]','check3.1'\n",
    "\n",
    "assert step('[[[[[1,1],[2,2]],[3,3]],[4,4]],[5,5]]') == '[[[[0,[3,2]],[3,3]],[4,4]],[5,5]]', 'check combo1.0'\n",
    "assert step(step('[[[[[1,1],[2,2]],[3,3]],[4,4]],[5,5]]')) == '[[[[3,0],[5,3]],[4,4]],[5,5]]', 'check combo1.1'\n"
   ]
  },
  {
   "cell_type": "code",
   "execution_count": 256,
   "id": "fb454f77",
   "metadata": {},
   "outputs": [
    {
     "name": "stdout",
     "output_type": "stream",
     "text": [
      "only exploding right\n",
      "[[[[0,3,2]],[3,3]],[4,4]],[5,5]]\n"
     ]
    }
   ],
   "source": [
    "import math\n",
    "\n",
    "#i is the index: the start of the first number where value > 9\n",
    "def split(snail,i):\n",
    "    num = int(snail[i:i+2])\n",
    "    left = math.floor(num/2)\n",
    "    right = math.ceil(num/2)\n",
    "    return snail[:i] + '[' + str(left) + ',' + str(right) + ']' + snail[i+2:]\n",
    "\n",
    "# test = '[[[[0,7],4],[15,[0,13]]],[1,1]]'\n",
    "# round2 = split(test,13)\n",
    "# print(round2)\n",
    "# print(split(round2,22))\n",
    "\n",
    "assert split('[[[[0,7],4],[15,[0,13]]],[1,1]]',13) == '[[[[0,7],4],[[7,8],[0,13]]],[1,1]]', 'check0'\n",
    "assert split('[[[[0,7],4],[[7,8],[0,13]]],[1,1]]',22) == '[[[[0,7],4],[[7,8],[0,[6,7]]]],[1,1]]', 'check1'"
   ]
  },
  {
   "cell_type": "code",
   "execution_count": 343,
   "id": "73e4e711",
   "metadata": {},
   "outputs": [
    {
     "name": "stdout",
     "output_type": "stream",
     "text": [
      "[[[[4,0],[5,0]],[[[4,5],[2,6]],[9,5]]],[7,[[[3,7],[4,3]],[[6,3],[8,8]]]]]\n",
      "[[[[4,0],[5,4]],[[0,[7,6]],[9,5]]],[7,[[[3,7],[4,3]],[[6,3],[8,8]]]]]\n",
      "[[[[4,0],[5,4]],[[7,0],[15,5]]],[7,[[[3,7],[4,3]],[[6,3],[8,8]]]]]\n",
      "[[[[4,0],[5,4]],[[7,0],[15,5]]],[10,[[0,[11,3]],[[6,3],[8,8]]]]]\n",
      "[[[[4,0],[5,4]],[[7,0],[15,5]]],[10,[[11,0],[[9,3],[8,8]]]]]\n",
      "-------\n",
      "[7,[[[3,7],[4,3]],[[6,3],[8,8]]]]\n"
     ]
    }
   ],
   "source": [
    "def step(line):\n",
    "    depth = 0\n",
    "    max_depth = 4\n",
    "    max_depth_index = 0\n",
    "    num = ''\n",
    "    exploded = False\n",
    "    for i in range(len(line)):\n",
    "        if depth > max_depth:\n",
    "            exploded = True\n",
    "            max_depth = depth\n",
    "            max_depth_index = i\n",
    "        if line[i] == '[':\n",
    "            depth += 1\n",
    "        if line[i] == ']':\n",
    "            depth -= 1\n",
    "    if max_depth >= 5 and exploded:\n",
    "        #print('max depth is',max_depth,'at index',max_depth_index)\n",
    "        line = explode(line,max_depth_index)\n",
    "        return line\n",
    "    for i in range(len(line)):\n",
    "        if line[i] in '0123456789':\n",
    "            num += line[i]\n",
    "            if int(num) > 9:\n",
    "                #print(i)\n",
    "                line = split(line,i-1)\n",
    "        elif line[i] not in '0123456789' and num != '':\n",
    "            num = ''\n",
    "    return line\n",
    "\n",
    "#step1: run this\n",
    "# test = '[[[[0,[4,5]],[0,0]],[[[4,5],[2,6]],[9,5]]],[7,[[[3,7],[4,3]],[[6,3],[8,8]]]]]'\n",
    "# for i in range(20):\n",
    "#     z = step(test)\n",
    "#     print(z)\n",
    "#     test = z\n",
    "\n",
    "\n",
    "\n",
    "test = '[[[[0,[4,5]],[0,0]],[[[4,5],[2,6]],[9,5]]],[7,[[[3,7],[4,3]],[[6,3],[8,8]]]]]'\n",
    "for i in range(5):\n",
    "    z = step(test)\n",
    "    print(z)\n",
    "    test = z\n",
    "\n",
    "print('-------')\n",
    "print('[7,[[[3,7],[4,3]],[[6,3],[8,8]]]]')\n",
    "    \n",
    "#step2: this is the issue line\n",
    "# issue = '[[[[4,0],[5,4]],[[7,7],[6,0]]],[[7,[5,5]],[[0,[[5,6],3]],[[6,3],[8,8]]]]]'\n",
    "# print(issue[47:51])\n",
    "    \n",
    "#print(step('[[[[0,[4,5]],[0,0]],[[[4,5],[2,6]],[9,5]]],[7,[[[3,7],[4,3]],[[6,3],[8,8]]]]]'))\n",
    "#print(step(step('[[[[0,[4,5]],[0,0]],[[[4,5],[2,6]],[9,5]]],[7,[[[3,7],[4,3]],[[6,3],[8,8]]]]]')))"
   ]
  },
  {
   "cell_type": "code",
   "execution_count": 337,
   "id": "42b62cf9",
   "metadata": {
    "scrolled": true
   },
   "outputs": [
    {
     "name": "stdout",
     "output_type": "stream",
     "text": [
      "only exploding right\n"
     ]
    }
   ],
   "source": [
    "def snail_add(left,right):\n",
    "    line = '[' + left + ',' + right + ']'\n",
    "    #print(line)\n",
    "    while 1:\n",
    "        temp_line = step(line)\n",
    "        if temp_line == line:\n",
    "            break\n",
    "        else:\n",
    "            line = temp_line[:]\n",
    "            #print(line)\n",
    "    return line\n",
    "\n",
    "assert snail_add('[[[[4,3],4],4],[7,[[8,4],9]]]','[1,1]') == '[[[[0,7],4],[[7,8],[6,0]]],[8,1]]', 'check combo0'"
   ]
  },
  {
   "cell_type": "code",
   "execution_count": 340,
   "id": "a883db6f",
   "metadata": {},
   "outputs": [
    {
     "name": "stdout",
     "output_type": "stream",
     "text": [
      "only exploding left\n",
      "[[[[4,0],[5,4]],[[7,7],[6,5]]],[[[0,6],[6,6]],[[6,7],[7,5]]]]\n"
     ]
    }
   ],
   "source": [
    "lines = [\n",
    "    '[[[0,[4,5]],[0,0]],[[[4,5],[2,6]],[9,5]]]',\n",
    "    '[7,[[[3,7],[4,3]],[[6,3],[8,8]]]]',\n",
    "    '[[2,[[0,8],[3,4]]],[[[6,7],1],[7,[1,6]]]]',\n",
    "    '[[[[2,4],7],[6,[0,5]]],[[[6,8],[2,8]],[[2,1],[4,5]]]]',\n",
    "    '[7,[5,[[3,8],[1,4]]]]',\n",
    "    '[[2,[2,2]],[8,[8,1]]]',\n",
    "    '[2,9]',\n",
    "    '[1,[[[9,3],9],[[9,0],[0,7]]]]',\n",
    "    '[[[5,[7,4]],7],1]',\n",
    "    '[[[[4,2],2],6],[8,7]]'\n",
    "]\n",
    "\n",
    "line = lines[0]\n",
    "for l in lines[1:]:\n",
    "    line = snail_add(line,l)\n",
    "    print(line)\n",
    "    break\n"
   ]
  },
  {
   "cell_type": "code",
   "execution_count": null,
   "id": "4a31caf9",
   "metadata": {},
   "outputs": [],
   "source": []
  }
 ],
 "metadata": {
  "kernelspec": {
   "display_name": "Python 3",
   "language": "python",
   "name": "python3"
  },
  "language_info": {
   "codemirror_mode": {
    "name": "ipython",
    "version": 3
   },
   "file_extension": ".py",
   "mimetype": "text/x-python",
   "name": "python",
   "nbconvert_exporter": "python",
   "pygments_lexer": "ipython3",
   "version": "3.8.8"
  }
 },
 "nbformat": 4,
 "nbformat_minor": 5
}
