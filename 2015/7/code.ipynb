{
 "cells": [
  {
   "cell_type": "code",
   "execution_count": 3,
   "metadata": {},
   "outputs": [],
   "source": [
    "import re"
   ]
  },
  {
   "cell_type": "code",
   "execution_count": 17,
   "metadata": {},
   "outputs": [
    {
     "data": {
      "text/plain": [
       "['lf AND lq -> ls', 'iu RSHIFT 1 -> jn', 'bo OR bu -> bv']"
      ]
     },
     "execution_count": 17,
     "metadata": {},
     "output_type": "execute_result"
    }
   ],
   "source": [
    "def open_file(path):\n",
    "    f = open(path, \"r\")\n",
    "    data = f.read().splitlines()\n",
    "    f.close()\n",
    "    return data\n",
    "\n",
    "raw = open_file(r'C:\\Users\\mkang\\Documents\\aoc\\2015\\7\\input.txt')\n",
    "raw[:3]"
   ]
  },
  {
   "cell_type": "code",
   "execution_count": 25,
   "metadata": {},
   "outputs": [
    {
     "ename": "KeyboardInterrupt",
     "evalue": "",
     "output_type": "error",
     "traceback": [
      "\u001b[1;31m---------------------------------------------------------------------------\u001b[0m",
      "\u001b[1;31mKeyboardInterrupt\u001b[0m                         Traceback (most recent call last)",
      "Cell \u001b[1;32mIn [25], line 107\u001b[0m\n\u001b[0;32m    104\u001b[0m             \u001b[39mexcept\u001b[39;00m:\n\u001b[0;32m    105\u001b[0m                 to_do_list\u001b[39m.\u001b[39mappend(r)\n\u001b[1;32m--> 107\u001b[0m \u001b[39mwhile\u001b[39;00m \u001b[39mlen\u001b[39;49m(to_do_list)\u001b[39m>\u001b[39m\u001b[39m0\u001b[39m:\n\u001b[0;32m    108\u001b[0m     temp_to_do_list \u001b[39m=\u001b[39m to_do_list\u001b[39m.\u001b[39mcopy()\n\u001b[0;32m    109\u001b[0m     to_do_list \u001b[39m=\u001b[39m []\n",
      "\u001b[1;31mKeyboardInterrupt\u001b[0m: "
     ]
    }
   ],
   "source": [
    "def parse_left_right(string, substring):\n",
    "    start = string.split(' -> ')[0]\n",
    "    left_right = start.split(' '+substring+' ')\n",
    "    return left_right\n",
    "\n",
    "def apply_left_right(left_right,substring,parts):\n",
    "    if substring == 'AND':\n",
    "        left = parts[left_right[0]]\n",
    "        right = parts[left_right[1]]\n",
    "        return int(left) & int(right)\n",
    "    elif substring == 'OR':\n",
    "        left = parts[left_right[0]]\n",
    "        right = parts[left_right[1]]\n",
    "        return int(left) | int(right)\n",
    "    elif substring == 'LSHIFT':\n",
    "        left = parts[left_right[0]]\n",
    "        right = left_right[1]\n",
    "        return int(left) << int(right)\n",
    "    else: #where substring is 'RSHIFT'\n",
    "        left = parts[left_right[0]]\n",
    "        right = left_right[1]\n",
    "        return int(left) >> int(right)\n",
    "\n",
    "def parse_not(string,substring):\n",
    "    start = string.split(' -> ')[0]\n",
    "    return start[4:]\n",
    "\n",
    "def apply_not(value,substring,parts):\n",
    "    start = parts[value]\n",
    "    return ~ start\n",
    "\n",
    "def parse_start(string):\n",
    "    return string.split(' -> ')[0]\n",
    "\n",
    "def parse_end(string):\n",
    "    return string.split(' -> ')[1]\n",
    "\n",
    "\n",
    "\n",
    "\n",
    "# raw = [\n",
    "#     '123 -> x',\n",
    "#     '456 -> y',\n",
    "#     'x AND y -> d',\n",
    "#     'x OR y -> e',\n",
    "#     'x LSHIFT 2 -> f',\n",
    "#     'y RSHIFT 2 -> g',\n",
    "#     'NOT x -> h',\n",
    "#     'NOT y -> i'\n",
    "# ]\n",
    "\n",
    "\n",
    "def apply_logic(raw, parts):\n",
    "    to_do_list = []\n",
    "    for r in raw:\n",
    "        if 'AND' in r:\n",
    "            try:\n",
    "                left_right = parse_left_right(r,'AND')\n",
    "                start = apply_left_right(left_right,'AND',parts)\n",
    "                end = parse_end(r)\n",
    "                parts[end] = int(start) if int(start)>0 else (65535+int(start)+1)\n",
    "            except:\n",
    "                to_do_list.append(r)\n",
    "        elif 'OR' in r:\n",
    "            try:\n",
    "                left_right = parse_left_right(r,'OR')\n",
    "                start = apply_left_right(left_right,'OR',parts)\n",
    "                end = parse_end(r)\n",
    "                parts[end] = int(start) if int(start)>0 else (65535+int(start)+1)\n",
    "            except:\n",
    "                to_do_list.append(r)\n",
    "        elif 'LSHIFT' in r:\n",
    "            try:\n",
    "                left_right = parse_left_right(r,'LSHIFT')\n",
    "                start = apply_left_right(left_right,'LSHIFT',parts)\n",
    "                end = parse_end(r)\n",
    "                parts[end] = int(start) if int(start)>0 else (65535+int(start)+1)\n",
    "            except:\n",
    "                to_do_list.append(r)\n",
    "        elif 'RSHIFT' in r:\n",
    "            try:\n",
    "                left_right = parse_left_right(r,'RSHIFT')\n",
    "                start = apply_left_right(left_right,'RSHIFT',parts)\n",
    "                end = parse_end(r)\n",
    "                parts[end] = int(start) if int(start)>0 else (65535+int(start)+1)\n",
    "            except:\n",
    "                to_do_list.append(r)\n",
    "        elif 'NOT' in r:\n",
    "            try:\n",
    "                left = parse_not(r,'NOT')\n",
    "                start = apply_not(left,'NOT',parts)\n",
    "                end = parse_end(r)\n",
    "                parts[end] = int(start) if int(start)>0 else (65535+int(start)+1)\n",
    "            except:\n",
    "                to_do_list.append(r)\n",
    "        else: #assignment\n",
    "            start = parse_start(r)\n",
    "            end = parse_end(r)\n",
    "            try:    #left might not be an int\n",
    "                parts[end] = int(start) if int(start)>0 else (65535+int(start)+1)\n",
    "            except:\n",
    "                try:    #left might not be declared yet\n",
    "                    parts[end] = parts[start]\n",
    "                except:\n",
    "                    to_do_list.append(r)\n",
    "    return parts, to_do_list\n",
    "\n",
    "parts = {}\n",
    "parts, to_do_list = apply_logic(raw,parts)\n",
    "\n",
    "for k,v in parts.items():\n",
    "    print(k,v)\n",
    "\n",
    "        \n"
   ]
  },
  {
   "cell_type": "code",
   "execution_count": null,
   "metadata": {},
   "outputs": [],
   "source": [
    "# # Smarter way to do this is to look for all\n",
    "# 1. int to var\n",
    "# 2. var to var  #This is x->y or NOT x->y\n",
    "# 3. all other declarations + while loop for any dependencies"
   ]
  },
  {
   "cell_type": "code",
   "execution_count": 40,
   "metadata": {},
   "outputs": [],
   "source": [
    "def order_raw(raw):\n",
    "    first, middle, last = [],[],[]\n",
    "    for r in raw:\n",
    "        if any(substring in r for substring in ['AND','OR','LSHIFT','RSHIFT']):\n",
    "            # last.append(r)\n",
    "            pass\n",
    "        else:\n",
    "            try:\n",
    "                x = int(r.split(' -> ')[0].strip())\n",
    "                first.append(r)\n",
    "            except:\n",
    "                #middle.append(r)\n",
    "                pass\n",
    "\n",
    "    # Can add logic to sort the middle and last\n",
    "    \n",
    "    return first#,middle,last\n",
    "\n",
    "# def order_middle(middle):\n",
    "#     pass\n",
    "\n",
    "# order_raw(raw)"
   ]
  },
  {
   "cell_type": "code",
   "execution_count": null,
   "metadata": {},
   "outputs": [],
   "source": [
    "#Smarter way to do this is to make a dictionary of terms (if two on the left, then check both)\n",
    "#       as you go through and apply one to the next."
   ]
  },
  {
   "cell_type": "code",
   "execution_count": 43,
   "metadata": {},
   "outputs": [
    {
     "data": {
      "text/plain": [
       "339"
      ]
     },
     "execution_count": 43,
     "metadata": {},
     "output_type": "execute_result"
    }
   ],
   "source": [
    "# Just solving part A: we can work backwards to determine\n",
    "# can make a reverseTREE with each edge being an operations\n",
    "# so each node leads to the var that it gets its value from\n",
    "\n",
    "# class Node:\n",
    "#     sources = []    # a source is another node\n",
    "#     operation = None\n",
    "#     value = None\n",
    "    \n",
    "#     def __init__(self, value, source, operation):\n",
    "#         self.sources.append(source)\n",
    "#         self.operation = operation\n",
    "#         self.value = value\n",
    "\n",
    "# raw = [\n",
    "#     '123 -> x',\n",
    "#     '456 -> y',\n",
    "#     'x AND y -> d',\n",
    "#     'x OR y -> e',\n",
    "#     'x LSHIFT 2 -> f',\n",
    "#     'y RSHIFT 2 -> g',\n",
    "#     'NOT x -> h',\n",
    "#     'NOT y -> i'\n",
    "# ]\n",
    "\n",
    "# for r in raw:\n",
    "#     left,right = r.split(' -> ')\n",
    "\n",
    "len(raw)"
   ]
  },
  {
   "cell_type": "code",
   "execution_count": 42,
   "metadata": {},
   "outputs": [
    {
     "data": {
      "text/plain": [
       "['b', 'c']"
      ]
     },
     "execution_count": 42,
     "metadata": {},
     "output_type": "execute_result"
    }
   ],
   "source": [
    "# for x, which starts, look for any rows that have x in the left. If AND or OR, then check if the other exists too!\n",
    "# akin to bredth first searching.\n",
    "# we start with b and c, loop through and grab any rows that have b or c into the staging area\n",
    "# populate what you can and add to list of nodes that exist. repeat and\n",
    "\n",
    "exists = [x.split(' -> ')[1] for x in order_raw(raw)]\n",
    "staging = []\n",
    "\n",
    "drop_list = []\n",
    "for r in raw:\n",
    "    if any(substring in r.split(' -> ')[0] for substring in exists):\n",
    "        staging.append(r)\n",
    "raw = [j for i, j in enumerate(my_list) if i not in [2, 3, 7]]\n",
    "\n",
    "for s in staging:\n",
    "    if any(substring in s for substring in ['LSHIFT','RSHIFT','NOT']):\n",
    "        pass\n",
    "    elif any(substring in s for substring in ['AND','OR']):"
   ]
  }
 ],
 "metadata": {
  "kernelspec": {
   "display_name": "Python 3.10.4 ('dagster')",
   "language": "python",
   "name": "python3"
  },
  "language_info": {
   "codemirror_mode": {
    "name": "ipython",
    "version": 3
   },
   "file_extension": ".py",
   "mimetype": "text/x-python",
   "name": "python",
   "nbconvert_exporter": "python",
   "pygments_lexer": "ipython3",
   "version": "3.10.4"
  },
  "orig_nbformat": 4,
  "vscode": {
   "interpreter": {
    "hash": "8ecf6bd35c549fe3f8b1f038c912fb0298909cd183f844a64492c4b266e925af"
   }
  }
 },
 "nbformat": 4,
 "nbformat_minor": 2
}
