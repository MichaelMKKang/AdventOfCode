{
 "cells": [
  {
   "cell_type": "code",
   "execution_count": 2,
   "metadata": {},
   "outputs": [],
   "source": [
    "import hashlib"
   ]
  },
  {
   "cell_type": "code",
   "execution_count": 16,
   "metadata": {},
   "outputs": [
    {
     "data": {
      "text/plain": [
       "'85d54c34d6189e36d3d6f52be82c1182'"
      ]
     },
     "execution_count": 16,
     "metadata": {},
     "output_type": "execute_result"
    }
   ],
   "source": [
    "input = 'abcdef50'\n",
    "hashlib.md5(input.encode()).hexdigest()"
   ]
  },
  {
   "cell_type": "code",
   "execution_count": 20,
   "metadata": {},
   "outputs": [
    {
     "name": "stdout",
     "output_type": "stream",
     "text": [
      "346386\n",
      "405262\n"
     ]
    }
   ],
   "source": [
    "# Part 1\n",
    "input = 'iwrupvqb'\n",
    "for i in range(0,1000000):\n",
    "    if hashlib.md5((input+str(i)).encode()).hexdigest()[:5] == '00000':\n",
    "        print(i)\n"
   ]
  },
  {
   "cell_type": "code",
   "execution_count": 35,
   "metadata": {},
   "outputs": [
    {
     "data": {
      "text/plain": [
       "9958218"
      ]
     },
     "execution_count": 35,
     "metadata": {},
     "output_type": "execute_result"
    }
   ],
   "source": [
    "# Part 2\n",
    "input = 'iwrupvqb'\n",
    "def find_value(input):\n",
    "    i = 0\n",
    "    while True:\n",
    "        if hashlib.md5((input+str(i)).encode()).hexdigest()[:6] == '000000':\n",
    "            return i\n",
    "        else:\n",
    "            i+=1\n",
    "\n",
    "find_value(input)\n",
    "    "
   ]
  }
 ],
 "metadata": {
  "kernelspec": {
   "display_name": "Python 3.10.4 ('dagster')",
   "language": "python",
   "name": "python3"
  },
  "language_info": {
   "codemirror_mode": {
    "name": "ipython",
    "version": 3
   },
   "file_extension": ".py",
   "mimetype": "text/x-python",
   "name": "python",
   "nbconvert_exporter": "python",
   "pygments_lexer": "ipython3",
   "version": "3.10.4"
  },
  "orig_nbformat": 4,
  "vscode": {
   "interpreter": {
    "hash": "8ecf6bd35c549fe3f8b1f038c912fb0298909cd183f844a64492c4b266e925af"
   }
  }
 },
 "nbformat": 4,
 "nbformat_minor": 2
}
