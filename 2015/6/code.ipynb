{
 "cells": [
  {
   "cell_type": "code",
   "execution_count": 1,
   "metadata": {},
   "outputs": [],
   "source": [
    "import re"
   ]
  },
  {
   "cell_type": "code",
   "execution_count": 56,
   "metadata": {},
   "outputs": [
    {
     "data": {
      "text/plain": [
       "['turn on 489,959 through 759,964',\n",
       " 'turn off 820,516 through 871,914',\n",
       " 'turn off 427,423 through 929,502']"
      ]
     },
     "execution_count": 56,
     "metadata": {},
     "output_type": "execute_result"
    }
   ],
   "source": [
    "def open_file(path):\n",
    "    f = open(path, \"r\")\n",
    "    data = f.read().splitlines()\n",
    "    f.close()\n",
    "    return data\n",
    "\n",
    "raw = open_file(r'C:\\Users\\mkang\\Documents\\aoc\\2015\\6\\input.txt')\n",
    "raw[:3]"
   ]
  },
  {
   "cell_type": "code",
   "execution_count": 54,
   "metadata": {},
   "outputs": [],
   "source": [
    "# could make this more efficient by keeping track of which are on or off and do the iteration all at once\n",
    "\n",
    "def turn_on(coord,grid):\n",
    "    for x in range(coord[0][0],coord[1][0]+1):\n",
    "        for y in range(coord[0][1],coord[1][1]+1):\n",
    "            grid[x][y] = True\n",
    "    return grid\n",
    "\n",
    "def turn_off(coord,grid):\n",
    "    for x in range(coord[0][0],coord[1][0]+1):\n",
    "        for y in range(coord[0][1],coord[1][1]+1):\n",
    "            grid[x][y] = False\n",
    "    return grid\n",
    "\n",
    "def toggle(coord,grid):\n",
    "    for x in range(coord[0][0],coord[1][0]+1):\n",
    "        for y in range(coord[0][1],coord[1][1]+1):\n",
    "            grid[x][y] = not grid[x][y]\n",
    "    return grid"
   ]
  },
  {
   "cell_type": "code",
   "execution_count": 58,
   "metadata": {},
   "outputs": [
    {
     "name": "stdout",
     "output_type": "stream",
     "text": [
      "569999\n"
     ]
    }
   ],
   "source": [
    "# Part 1\n",
    "grid = []\n",
    "for i in range(1000):\n",
    "    g = []\n",
    "    for j in range(1000):\n",
    "        g.append(False)\n",
    "    grid.append(g)\n",
    "\n",
    "# raw = [\n",
    "#     'turn on 0,0 through 999,999',\n",
    "#     'turn off 499,499 through 500,500'\n",
    "# ]\n",
    "\n",
    "for row in raw:\n",
    "    coord_str = re.findall('[\\d,]+',row)\n",
    "    coord = [[int(i) for i in x.split(',')] for x in coord_str]\n",
    "\n",
    "    if 'turn on' in row:\n",
    "        grid = turn_on(coord,grid)\n",
    "    elif 'turn off' in row:\n",
    "        grid = turn_off(coord,grid)\n",
    "    else:\n",
    "        grid = toggle(coord,grid)\n",
    "print(sum([sum(row) for row in grid]))\n",
    "\n",
    "#sum([sum(row) for row in grid])"
   ]
  },
  {
   "cell_type": "code",
   "execution_count": 59,
   "metadata": {},
   "outputs": [
    {
     "name": "stdout",
     "output_type": "stream",
     "text": [
      "17836115\n"
     ]
    }
   ],
   "source": [
    "# Part 2\n",
    "\n",
    "def turn_on2(coord,grid):\n",
    "    for x in range(coord[0][0],coord[1][0]+1):\n",
    "        for y in range(coord[0][1],coord[1][1]+1):\n",
    "            grid[x][y] += 1\n",
    "    return grid\n",
    "\n",
    "def turn_off2(coord,grid):\n",
    "    for x in range(coord[0][0],coord[1][0]+1):\n",
    "        for y in range(coord[0][1],coord[1][1]+1):\n",
    "            if grid[x][y] == 0:\n",
    "                pass\n",
    "            else:\n",
    "                grid[x][y] -= 1\n",
    "    return grid\n",
    "\n",
    "def toggle2(coord,grid):\n",
    "    for x in range(coord[0][0],coord[1][0]+1):\n",
    "        for y in range(coord[0][1],coord[1][1]+1):\n",
    "            grid[x][y] += 2\n",
    "    return grid\n",
    "\n",
    "\n",
    "grid = []\n",
    "for i in range(1000):\n",
    "    g = []\n",
    "    for j in range(1000):\n",
    "        g.append(0)\n",
    "    grid.append(g)\n",
    "\n",
    "# raw = [\n",
    "#     'turn on 0,0 through 999,999',\n",
    "#     'turn off 499,499 through 500,500'\n",
    "# ]\n",
    "\n",
    "for row in raw:\n",
    "    coord_str = re.findall('[\\d,]+',row)\n",
    "    coord = [[int(i) for i in x.split(',')] for x in coord_str]\n",
    "\n",
    "    if 'turn on' in row:\n",
    "        grid = turn_on2(coord,grid)\n",
    "    elif 'turn off' in row:\n",
    "        grid = turn_off2(coord,grid)\n",
    "    else:\n",
    "        grid = toggle2(coord,grid)\n",
    "print(sum([sum(row) for row in grid]))\n",
    "\n",
    "#sum([sum(row) for row in grid])"
   ]
  },
  {
   "cell_type": "code",
   "execution_count": null,
   "metadata": {},
   "outputs": [],
   "source": []
  }
 ],
 "metadata": {
  "kernelspec": {
   "display_name": "Python 3.10.4 ('dagster')",
   "language": "python",
   "name": "python3"
  },
  "language_info": {
   "codemirror_mode": {
    "name": "ipython",
    "version": 3
   },
   "file_extension": ".py",
   "mimetype": "text/x-python",
   "name": "python",
   "nbconvert_exporter": "python",
   "pygments_lexer": "ipython3",
   "version": "3.10.4"
  },
  "orig_nbformat": 4,
  "vscode": {
   "interpreter": {
    "hash": "8ecf6bd35c549fe3f8b1f038c912fb0298909cd183f844a64492c4b266e925af"
   }
  }
 },
 "nbformat": 4,
 "nbformat_minor": 2
}
