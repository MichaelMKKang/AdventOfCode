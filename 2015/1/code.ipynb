{
 "cells": [
  {
   "cell_type": "code",
   "execution_count": 15,
   "metadata": {},
   "outputs": [],
   "source": [
    "def open_file(path):\n",
    "    f = open(path, \"r\")\n",
    "    data = f.read()\n",
    "    f.close()\n",
    "    return data\n",
    "\n",
    "data = open_file(r'C:\\Users\\mkang\\Documents\\aoc\\2015\\1\\input1.txt')"
   ]
  },
  {
   "cell_type": "code",
   "execution_count": 10,
   "id": "05758637",
   "metadata": {},
   "outputs": [
    {
     "data": {
      "text/plain": [
       "74"
      ]
     },
     "execution_count": 10,
     "metadata": {},
     "output_type": "execute_result"
    }
   ],
   "source": [
    "# Part 1\n",
    "floor = 0\n",
    "for d in data:\n",
    "    if d == '(':\n",
    "        floor += 1\n",
    "    elif d == ')':\n",
    "        floor -= 1\n",
    "    else:\n",
    "        print('weird char')\n",
    "        pass\n",
    "\n",
    "floor\n"
   ]
  },
  {
   "cell_type": "code",
   "execution_count": 16,
   "id": "23f59de9",
   "metadata": {},
   "outputs": [
    {
     "data": {
      "text/plain": [
       "1795"
      ]
     },
     "execution_count": 16,
     "metadata": {},
     "output_type": "execute_result"
    }
   ],
   "source": [
    "# Part 2\n",
    "floor = 0\n",
    "for i in range(len(data)):\n",
    "    d = data[i]\n",
    "    if d == '(':\n",
    "        floor += 1\n",
    "        if floor == -1:\n",
    "            break\n",
    "    elif d == ')':\n",
    "        floor -= 1\n",
    "        if floor == -1:\n",
    "            break\n",
    "    else:\n",
    "        print('weird char')\n",
    "        pass\n",
    "\n",
    "i+1"
   ]
  }
 ],
 "metadata": {
  "kernelspec": {
   "display_name": "Python 3.10.4 ('dagster')",
   "language": "python",
   "name": "python3"
  },
  "language_info": {
   "codemirror_mode": {
    "name": "ipython",
    "version": 3
   },
   "file_extension": ".py",
   "mimetype": "text/x-python",
   "name": "python",
   "nbconvert_exporter": "python",
   "pygments_lexer": "ipython3",
   "version": "3.10.4"
  },
  "vscode": {
   "interpreter": {
    "hash": "8ecf6bd35c549fe3f8b1f038c912fb0298909cd183f844a64492c4b266e925af"
   }
  }
 },
 "nbformat": 4,
 "nbformat_minor": 5
}
