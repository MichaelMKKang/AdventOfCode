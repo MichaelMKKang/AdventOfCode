{
 "cells": [
  {
   "cell_type": "code",
   "execution_count": 54,
   "metadata": {},
   "outputs": [
    {
     "data": {
      "text/plain": [
       "'rthkunfaakmwmush'"
      ]
     },
     "execution_count": 54,
     "metadata": {},
     "output_type": "execute_result"
    }
   ],
   "source": [
    "def open_file(path):\n",
    "    f = open(path, \"r\")\n",
    "    data = f.read().splitlines()\n",
    "    f.close()\n",
    "    return data\n",
    "\n",
    "raw = open_file(r'C:\\Users\\mkang\\Documents\\aoc\\2015\\5\\input.txt')\n",
    "raw[0]"
   ]
  },
  {
   "cell_type": "code",
   "execution_count": 22,
   "metadata": {},
   "outputs": [
    {
     "data": {
      "text/plain": [
       "True"
      ]
     },
     "execution_count": 22,
     "metadata": {},
     "output_type": "execute_result"
    }
   ],
   "source": [
    "def bad_substring(txt):\n",
    "    bad_strings = ['ab','cd','pq','xy']\n",
    "    return not any(substring in txt for substring in bad_strings)\n",
    "\n",
    "def okay_vowels(txt):\n",
    "    count = 0\n",
    "    for t in txt:\n",
    "        if t in 'aeiou':\n",
    "            count += 1\n",
    "    if count >= 3:\n",
    "        return True\n",
    "    else:\n",
    "        return False\n",
    "\n",
    "def any_repeats(txt):\n",
    "    for t in range(len(txt)-1):\n",
    "        if txt[t] == txt[t+1]:\n",
    "            return True\n",
    "    return False\n",
    "\n",
    "bad_substring('ugknbfddgicrmopn')\n",
    "#okay_vowels('ugknbfddgicrmopn')\n",
    "#any_repeats('ugknbfddgicrmopn')"
   ]
  },
  {
   "cell_type": "code",
   "execution_count": 29,
   "metadata": {},
   "outputs": [
    {
     "data": {
      "text/plain": [
       "258"
      ]
     },
     "execution_count": 29,
     "metadata": {},
     "output_type": "execute_result"
    }
   ],
   "source": [
    "count = 0\n",
    "for txt in raw:\n",
    "    if bad_substring(txt) & okay_vowels(txt) & any_repeats(txt):\n",
    "        count += 1\n",
    "count"
   ]
  },
  {
   "cell_type": "code",
   "execution_count": 35,
   "metadata": {},
   "outputs": [],
   "source": [
    "# Part 2\n",
    "import collections"
   ]
  },
  {
   "cell_type": "code",
   "execution_count": 55,
   "metadata": {},
   "outputs": [
    {
     "data": {
      "text/plain": [
       "53"
      ]
     },
     "execution_count": 55,
     "metadata": {},
     "output_type": "execute_result"
    }
   ],
   "source": [
    "# def repeated_pair(txt):\n",
    "#     even_pairs = [txt[i:i+2] for i in range(0, len(txt), 2)]\n",
    "#     if len(even_pairs[-1])==1:\n",
    "#         even_pairs=even_pairs[:-1]\n",
    "#     odd_pairs = [txt[1:][i:i+2] for i in range(0, len(txt)-1, 2)]\n",
    "#     if len(odd_pairs[-1])==1:\n",
    "#         odd_pairs=odd_pairs[:-1]\n",
    "#     if len(set(even_pairs)) != len(even_pairs):\n",
    "#         return True\n",
    "\n",
    "def repeated_pair(txt):\n",
    "    pairs = []\n",
    "    for t in range(len(txt)-1):\n",
    "        pairs.append(txt[t]+txt[t+1])\n",
    "    repeated_pairs = [item for item, count in collections.Counter(pairs).items() if count > 1]\n",
    "    return repeated_pairs, pairs\n",
    "\n",
    "def check_adjacent(substring,pairs):\n",
    "    indices = [i for i, x in enumerate(pairs) if x == substring]\n",
    "    if indices[0]+1 == indices[1]:\n",
    "        return False\n",
    "    else:\n",
    "        return True\n",
    "\n",
    "def has_sandwich(txt):\n",
    "    triplets = []\n",
    "    for t in range(len(txt)-2):\n",
    "        triplets.append(txt[t] + txt[t+1] + txt[t+2])\n",
    "    for trip in triplets:\n",
    "        if trip[0] == trip[2]:\n",
    "            return True\n",
    "    return False\n",
    "\n",
    "def determine_nice(txt):\n",
    "    if not has_sandwich(txt):\n",
    "        return False\n",
    "    else:\n",
    "        repeats, pairs = repeated_pair(txt)\n",
    "        for rep in repeats:\n",
    "            if check_adjacent(rep,pairs):\n",
    "                return True\n",
    "        return False\n",
    "\n",
    "count = 0\n",
    "for t in raw:\n",
    "    if determine_nice(t):\n",
    "        count +=1\n",
    "\n",
    "count\n",
    "\n"
   ]
  },
  {
   "cell_type": "code",
   "execution_count": 46,
   "metadata": {},
   "outputs": [
    {
     "data": {
      "text/plain": [
       "[2, 3]"
      ]
     },
     "execution_count": 46,
     "metadata": {},
     "output_type": "execute_result"
    }
   ],
   "source": [
    "'1200034567890'\n",
    "indices = [i for i, x in enumerate(['12', '20', '00', '00', '03', '34', '45', '56', '67', '78', '89', '90']) if x == \"00\"]\n",
    "indices"
   ]
  }
 ],
 "metadata": {
  "kernelspec": {
   "display_name": "Python 3.10.4 ('dagster')",
   "language": "python",
   "name": "python3"
  },
  "language_info": {
   "codemirror_mode": {
    "name": "ipython",
    "version": 3
   },
   "file_extension": ".py",
   "mimetype": "text/x-python",
   "name": "python",
   "nbconvert_exporter": "python",
   "pygments_lexer": "ipython3",
   "version": "3.10.4"
  },
  "orig_nbformat": 4,
  "vscode": {
   "interpreter": {
    "hash": "8ecf6bd35c549fe3f8b1f038c912fb0298909cd183f844a64492c4b266e925af"
   }
  }
 },
 "nbformat": 4,
 "nbformat_minor": 2
}
