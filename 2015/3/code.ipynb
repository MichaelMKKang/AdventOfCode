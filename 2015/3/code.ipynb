{
 "cells": [
  {
   "cell_type": "code",
   "execution_count": 2,
   "metadata": {},
   "outputs": [
    {
     "data": {
      "text/plain": [
       "'^^<<v<<v><v^^<><>^^<'"
      ]
     },
     "execution_count": 2,
     "metadata": {},
     "output_type": "execute_result"
    }
   ],
   "source": [
    "def open_file(path):\n",
    "    f = open(path, \"r\")\n",
    "    data = f.read()\n",
    "    f.close()\n",
    "    return data\n",
    "\n",
    "data = open_file(r'C:\\Users\\mkang\\Documents\\aoc\\2015\\3\\input.txt')\n",
    "data[:20]"
   ]
  },
  {
   "cell_type": "code",
   "execution_count": 4,
   "metadata": {},
   "outputs": [
    {
     "data": {
      "text/plain": [
       "2565"
      ]
     },
     "execution_count": 4,
     "metadata": {},
     "output_type": "execute_result"
    }
   ],
   "source": [
    "# Part 1\n",
    "def pathing(data):\n",
    "    x,y = 0,0\n",
    "    visited = {(0,0):1}\n",
    "    for d in data:\n",
    "        if d == '^':\n",
    "            y+=1 \n",
    "        elif d == 'v':\n",
    "            y-=1\n",
    "        elif d == '<':\n",
    "            x -= 1\n",
    "        elif d == '>':\n",
    "            x += 1\n",
    "\n",
    "        visited[(x,y)] = visited.get((x,y),0) + 1\n",
    "    return visited\n",
    "\n",
    "visited = pathing(data)\n",
    "len(visited)"
   ]
  },
  {
   "cell_type": "code",
   "execution_count": 6,
   "metadata": {},
   "outputs": [
    {
     "data": {
      "text/plain": [
       "2639"
      ]
     },
     "execution_count": 6,
     "metadata": {},
     "output_type": "execute_result"
    }
   ],
   "source": [
    "#Part 2\n",
    "santa = data[::2]\n",
    "robo = data[1::2]\n",
    "santa_path = pathing(santa)\n",
    "robo_path = pathing(robo)\n",
    "\n",
    "len(set(list(santa_path.keys()) + list(robo_path.keys())))"
   ]
  }
 ],
 "metadata": {
  "kernelspec": {
   "display_name": "Python 3.10.4 ('dagster')",
   "language": "python",
   "name": "python3"
  },
  "language_info": {
   "codemirror_mode": {
    "name": "ipython",
    "version": 3
   },
   "file_extension": ".py",
   "mimetype": "text/x-python",
   "name": "python",
   "nbconvert_exporter": "python",
   "pygments_lexer": "ipython3",
   "version": "3.10.4"
  },
  "orig_nbformat": 4,
  "vscode": {
   "interpreter": {
    "hash": "8ecf6bd35c549fe3f8b1f038c912fb0298909cd183f844a64492c4b266e925af"
   }
  }
 },
 "nbformat": 4,
 "nbformat_minor": 2
}
